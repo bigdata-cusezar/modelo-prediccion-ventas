{
 "cells": [
  {
   "cell_type": "code",
   "execution_count": 7,
   "id": "initial_id",
   "metadata": {
    "collapsed": true,
    "ExecuteTime": {
     "end_time": "2023-10-27T06:41:38.053756600Z",
     "start_time": "2023-10-27T06:41:38.046844200Z"
    }
   },
   "outputs": [],
   "source": [
    "import pandas\n",
    "from entidades_cs import SQLEntity\n",
    "import helpers_cs\n",
    "\n",
    "helpers_cs.set_env_path('../../../.env')"
   ]
  },
  {
   "cell_type": "code",
   "execution_count": null,
   "outputs": [],
   "source": [
    "# Entidad proyectos\n",
    "proyectos = SQLEntity(query=\"\"\"\n",
    "    select * from ADI_DTM_MacroProyectos\n",
    "\"\"\")"
   ],
   "metadata": {
    "collapsed": false
   },
   "id": "1e19615b575be29b"
  }
 ],
 "metadata": {
  "kernelspec": {
   "display_name": "Python 3",
   "language": "python",
   "name": "python3"
  },
  "language_info": {
   "codemirror_mode": {
    "name": "ipython",
    "version": 2
   },
   "file_extension": ".py",
   "mimetype": "text/x-python",
   "name": "python",
   "nbconvert_exporter": "python",
   "pygments_lexer": "ipython2",
   "version": "2.7.6"
  }
 },
 "nbformat": 4,
 "nbformat_minor": 5
}
