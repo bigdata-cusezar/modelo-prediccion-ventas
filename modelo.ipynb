{
 "cells": [
  {
   "cell_type": "code",
   "execution_count": 2,
   "outputs": [],
   "source": [
    "# Importación de librerías\n",
    "import numpy as np\n",
    "import pandas as pd\n",
    "from sklearn.linear_model import LinearRegression"
   ],
   "metadata": {
    "collapsed": false,
    "ExecuteTime": {
     "end_time": "2023-10-27T21:13:35.103605700Z",
     "start_time": "2023-10-27T21:13:35.086855900Z"
    }
   },
   "id": "50acd06680230643"
  },
  {
   "cell_type": "code",
   "execution_count": null,
   "outputs": [],
   "source": [
    "# Estructura del modelo\n",
    "\"\"\"\n",
    "Endógenas:\n",
    "    - cantidad_ventas\n",
    "    - valor_ventas\n",
    "    \n",
    "Exógenas:\n",
    "\n",
    "    # Tiempo\n",
    "    - periodo_year -> Año\n",
    "    - periodo_month_number -> Mes\n",
    "    \n",
    "    # Geográficas\n",
    "    - geo_ciudad -> Clasificación de Zona [1 => Bogotá D.C., 2 => Cali]\n",
    "    - geo_clase_zona -> Clasificación de Zona [1 => Residencial, 2 => Mixta, 3 => Industrial, 4 => Comercial]\n",
    "    - geo_seguridad -> Nivel de seguridad [1 => Deficiente, 2 => Medio, 3 => Bueno]\n",
    "    - geo_cercania_lugares -> Nivel de cercanía a lugares de interés [1 => Deficiente, 2 => Medio, 3 => Bueno]\n",
    "    - geo_calidad_infraestructura -> Nivel de calidad de infraestructuras [1 => Deficiente, 2 => Medio, 3 => Bueno]\n",
    "    \n",
    "    # Proyecto\n",
    "    - perfil_comprador -> Clasificación del perfil del comprador [1 => Vivienda, 2 => Vivienda alto valor, 3 => Inversión]\n",
    "    - perfil_comprador_complementario -> Clasificación del perfil del comprador [1 => Vivienda, 2 => Vivienda alto valor, 3 => Inversión]\n",
    "    - clase_proyecto -> Clase de proyecto [0 => VIS, 1 => No VIS]\n",
    "    - precio_promedio_unidad -> Precio promedio proyecto\n",
    "    - precio_min_unidad -> Precio mínimo unidad\n",
    "    - precio_max_unidad -> Precio máximo unidad\n",
    "    - plazo_promedio_unidad -> Plazo en meses (c/i) promedio proyecto\n",
    "    - plazo_min_unidad -> Plazo en meses (c/i) mínimo unidad\n",
    "    - plazo_max_unidad -> Plazo en meses (c/i) máximo unidad\n",
    "    - area_promedio_unidad -> Área promedio unidad\n",
    "    - area_min_unidad -> Área mínima unidad\n",
    "    - area_max_unidad -> Área máxima unidad\n",
    "    - area_proyecto -> Área proyecto\n",
    "    - area_zonas_comunes -> Área zonas comunes\n",
    "    - calidad_unidades -> Calidad de acabados\n",
    "    - presupuesto_marketing -> Presupuesto marketing\n",
    "    \n",
    "    # Macroeconómicos\n",
    "    - macro_pib_const -> PIB trimestral a precios constantes\n",
    "    - macro_ipc -> IPC trimestral\n",
    "    - macro_consumo -> Índice de expectativas de consumo (Camacol - DANE)\n",
    "    - macro_calidad_cartera -> Índice de calidad de cartera\n",
    "    - macro_valor_subsidios -> Valor de subsidios desembolsados\n",
    "    - macro_expectativa_subsidios -> Expectativa de desembolso de subsidios\n",
    "    - macro_confianza_consumidor -> Índice de confianza del consumidor\n",
    "    - macro_incertidumbre_bancaria -> Índice de incertidumbre bancario\n",
    "    - macro_indice_precios_vivienda -> Índice de precios de la vivienda\n",
    "    - macro_tasa_interes -> Tasa de interés\n",
    "    - macro_tasa_interes_hipoteca -> Tasa de interés mercado hipotecario\n",
    "\"\"\""
   ],
   "metadata": {
    "collapsed": false
   },
   "id": "initial_id"
  },
  {
   "cell_type": "code",
   "execution_count": 8,
   "outputs": [
    {
     "name": "stderr",
     "output_type": "stream",
     "text": [
      "C:\\Python311\\Lib\\site-packages\\openpyxl\\styles\\stylesheet.py:226: UserWarning: Workbook contains no default style, apply openpyxl's default\n",
      "  warn(\"Workbook contains no default style, apply openpyxl's default\")\n"
     ]
    },
    {
     "data": {
      "text/plain": "    Año  Mes                         MacNombreMacro  \\\n0  2023    9  CONJUNTO RESIDENCIAL PUERTO TRANQUILO   \n1  2023    9             LA ALEGRIA I DE LA MARLENE   \n2  2023    9                  SABANA DE LOS CEREZOS   \n3  2023    9              LA UNION II DE LA MARLENE   \n4  2023    9           LA ALEGRIA III DE LA MARLENE   \n\n                                      empresa_x   geo_ciudad  geo_clase_zona  \\\n0   PATRIMONIOS AUTONOMOS FIDUCIARIA DAVIVIENDA     RICAURTE             NaN   \n1  CUSEZAR PATRIMONIO AUTONOMO - FIDUDAVIVIENDA  BOGOTÁ D.C.             NaN   \n2       URBE PATRIMONIO AUTONOMO FIDUDAVIVIENDA  BOGOTÁ D.C.             NaN   \n3  CUSEZAR PATRIMONIO AUTONOMO - FIDUDAVIVIENDA  BOGOTÁ D.C.             NaN   \n4  CUSEZAR PATRIMONIO AUTONOMO - FIDUDAVIVIENDA  BOGOTÁ D.C.             NaN   \n\n   geo_seguridad  geo_cercania_lugares  geo_calidad_infraestructura  \\\n0            NaN                   NaN                          NaN   \n1            NaN                   NaN                          NaN   \n2            NaN                   NaN                          NaN   \n3            NaN                   NaN                          NaN   \n4            NaN                   NaN                          NaN   \n\n      perfil_comprador  ... plazo_promedio_unidad  plazo_min_unidad  \\\n0  Vivienda alto valor  ...            224.000000                64   \n1             Vivienda  ...            111.000000               111   \n2             Vivienda  ...              3.000000                 3   \n3             Vivienda  ...            409.333333               277   \n4             Vivienda  ...            277.333333               247   \n\n   plazo_max_unidad  area_promedio_unidad  area_min_unidad  area_max_unidad  \\\n0               369             78.293650             0.00           206.10   \n1               111             38.765833            29.93            39.15   \n2                 3             66.800000            35.00            79.90   \n3               551             45.765908            31.20            53.00   \n4               308             38.765833            29.93            39.15   \n\n   area_proyecto  calidad_unidades  presupuesto_marketing  cantidad_ventas  \n0       57702.42               NaN                    NaN              NaN  \n1       21398.74               NaN                    NaN              NaN  \n2       22044.00               NaN                    NaN              NaN  \n3       30754.69               NaN                    NaN              NaN  \n4       26050.64               NaN                    NaN              NaN  \n\n[5 rows x 25 columns]",
      "text/html": "<div>\n<style scoped>\n    .dataframe tbody tr th:only-of-type {\n        vertical-align: middle;\n    }\n\n    .dataframe tbody tr th {\n        vertical-align: top;\n    }\n\n    .dataframe thead th {\n        text-align: right;\n    }\n</style>\n<table border=\"1\" class=\"dataframe\">\n  <thead>\n    <tr style=\"text-align: right;\">\n      <th></th>\n      <th>Año</th>\n      <th>Mes</th>\n      <th>MacNombreMacro</th>\n      <th>empresa_x</th>\n      <th>geo_ciudad</th>\n      <th>geo_clase_zona</th>\n      <th>geo_seguridad</th>\n      <th>geo_cercania_lugares</th>\n      <th>geo_calidad_infraestructura</th>\n      <th>perfil_comprador</th>\n      <th>...</th>\n      <th>plazo_promedio_unidad</th>\n      <th>plazo_min_unidad</th>\n      <th>plazo_max_unidad</th>\n      <th>area_promedio_unidad</th>\n      <th>area_min_unidad</th>\n      <th>area_max_unidad</th>\n      <th>area_proyecto</th>\n      <th>calidad_unidades</th>\n      <th>presupuesto_marketing</th>\n      <th>cantidad_ventas</th>\n    </tr>\n  </thead>\n  <tbody>\n    <tr>\n      <th>0</th>\n      <td>2023</td>\n      <td>9</td>\n      <td>CONJUNTO RESIDENCIAL PUERTO TRANQUILO</td>\n      <td>PATRIMONIOS AUTONOMOS FIDUCIARIA DAVIVIENDA</td>\n      <td>RICAURTE</td>\n      <td>NaN</td>\n      <td>NaN</td>\n      <td>NaN</td>\n      <td>NaN</td>\n      <td>Vivienda alto valor</td>\n      <td>...</td>\n      <td>224.000000</td>\n      <td>64</td>\n      <td>369</td>\n      <td>78.293650</td>\n      <td>0.00</td>\n      <td>206.10</td>\n      <td>57702.42</td>\n      <td>NaN</td>\n      <td>NaN</td>\n      <td>NaN</td>\n    </tr>\n    <tr>\n      <th>1</th>\n      <td>2023</td>\n      <td>9</td>\n      <td>LA ALEGRIA I DE LA MARLENE</td>\n      <td>CUSEZAR PATRIMONIO AUTONOMO - FIDUDAVIVIENDA</td>\n      <td>BOGOTÁ D.C.</td>\n      <td>NaN</td>\n      <td>NaN</td>\n      <td>NaN</td>\n      <td>NaN</td>\n      <td>Vivienda</td>\n      <td>...</td>\n      <td>111.000000</td>\n      <td>111</td>\n      <td>111</td>\n      <td>38.765833</td>\n      <td>29.93</td>\n      <td>39.15</td>\n      <td>21398.74</td>\n      <td>NaN</td>\n      <td>NaN</td>\n      <td>NaN</td>\n    </tr>\n    <tr>\n      <th>2</th>\n      <td>2023</td>\n      <td>9</td>\n      <td>SABANA DE LOS CEREZOS</td>\n      <td>URBE PATRIMONIO AUTONOMO FIDUDAVIVIENDA</td>\n      <td>BOGOTÁ D.C.</td>\n      <td>NaN</td>\n      <td>NaN</td>\n      <td>NaN</td>\n      <td>NaN</td>\n      <td>Vivienda</td>\n      <td>...</td>\n      <td>3.000000</td>\n      <td>3</td>\n      <td>3</td>\n      <td>66.800000</td>\n      <td>35.00</td>\n      <td>79.90</td>\n      <td>22044.00</td>\n      <td>NaN</td>\n      <td>NaN</td>\n      <td>NaN</td>\n    </tr>\n    <tr>\n      <th>3</th>\n      <td>2023</td>\n      <td>9</td>\n      <td>LA UNION II DE LA MARLENE</td>\n      <td>CUSEZAR PATRIMONIO AUTONOMO - FIDUDAVIVIENDA</td>\n      <td>BOGOTÁ D.C.</td>\n      <td>NaN</td>\n      <td>NaN</td>\n      <td>NaN</td>\n      <td>NaN</td>\n      <td>Vivienda</td>\n      <td>...</td>\n      <td>409.333333</td>\n      <td>277</td>\n      <td>551</td>\n      <td>45.765908</td>\n      <td>31.20</td>\n      <td>53.00</td>\n      <td>30754.69</td>\n      <td>NaN</td>\n      <td>NaN</td>\n      <td>NaN</td>\n    </tr>\n    <tr>\n      <th>4</th>\n      <td>2023</td>\n      <td>9</td>\n      <td>LA ALEGRIA III DE LA MARLENE</td>\n      <td>CUSEZAR PATRIMONIO AUTONOMO - FIDUDAVIVIENDA</td>\n      <td>BOGOTÁ D.C.</td>\n      <td>NaN</td>\n      <td>NaN</td>\n      <td>NaN</td>\n      <td>NaN</td>\n      <td>Vivienda</td>\n      <td>...</td>\n      <td>277.333333</td>\n      <td>247</td>\n      <td>308</td>\n      <td>38.765833</td>\n      <td>29.93</td>\n      <td>39.15</td>\n      <td>26050.64</td>\n      <td>NaN</td>\n      <td>NaN</td>\n      <td>NaN</td>\n    </tr>\n  </tbody>\n</table>\n<p>5 rows × 25 columns</p>\n</div>"
     },
     "execution_count": 8,
     "metadata": {},
     "output_type": "execute_result"
    }
   ],
   "source": [
    "# Cargar datos\n",
    "datos = pd.read_excel('data/macroproyectos.xlsx')\n",
    "datos.head()"
   ],
   "metadata": {
    "collapsed": false,
    "ExecuteTime": {
     "end_time": "2023-10-27T21:31:00.487725200Z",
     "start_time": "2023-10-27T21:31:00.033460700Z"
    }
   },
   "id": "a0ed52ac4536a561"
  },
  {
   "cell_type": "code",
   "execution_count": 19,
   "outputs": [
    {
     "data": {
      "text/plain": "    Año  Mes   geo_ciudad     perfil_comprador  \\\n0  2023    9     RICAURTE  Vivienda alto valor   \n1  2023    9  BOGOTÁ D.C.             Vivienda   \n2  2023    9  BOGOTÁ D.C.             Vivienda   \n3  2023    9  BOGOTÁ D.C.             Vivienda   \n4  2023    9  BOGOTÁ D.C.             Vivienda   \n\n  perfil_comprador_complementario  clase_proyecto  precio_promedio_unidad  \\\n0             Vivienda alto valor               0            3.169162e+08   \n1                       Inversión               1            1.159672e+08   \n2                        Vivienda               0            2.788751e+08   \n3                       Inversión               1            1.803223e+08   \n4                       Inversión               1            1.161496e+08   \n\n   precio_min_unidad  precio_max_unidad  plazo_promedio_unidad  \\\n0                  0         1077790000             224.000000   \n1           87954600          117432600             111.000000   \n2          158660000          397890000               3.000000   \n3          124950000          200940000             409.333333   \n4           89760000          117096000             277.333333   \n\n   plazo_min_unidad  plazo_max_unidad  area_promedio_unidad  area_min_unidad  \\\n0                64               369             78.293650             0.00   \n1               111               111             38.765833            29.93   \n2                 3                 3             66.800000            35.00   \n3               277               551             45.765908            31.20   \n4               247               308             38.765833            29.93   \n\n   area_max_unidad  area_proyecto  cantidad_ventas  \n0           206.10       57702.42              0.0  \n1            39.15       21398.74              0.0  \n2            79.90       22044.00              0.0  \n3            53.00       30754.69              0.0  \n4            39.15       26050.64              0.0  ",
      "text/html": "<div>\n<style scoped>\n    .dataframe tbody tr th:only-of-type {\n        vertical-align: middle;\n    }\n\n    .dataframe tbody tr th {\n        vertical-align: top;\n    }\n\n    .dataframe thead th {\n        text-align: right;\n    }\n</style>\n<table border=\"1\" class=\"dataframe\">\n  <thead>\n    <tr style=\"text-align: right;\">\n      <th></th>\n      <th>Año</th>\n      <th>Mes</th>\n      <th>geo_ciudad</th>\n      <th>perfil_comprador</th>\n      <th>perfil_comprador_complementario</th>\n      <th>clase_proyecto</th>\n      <th>precio_promedio_unidad</th>\n      <th>precio_min_unidad</th>\n      <th>precio_max_unidad</th>\n      <th>plazo_promedio_unidad</th>\n      <th>plazo_min_unidad</th>\n      <th>plazo_max_unidad</th>\n      <th>area_promedio_unidad</th>\n      <th>area_min_unidad</th>\n      <th>area_max_unidad</th>\n      <th>area_proyecto</th>\n      <th>cantidad_ventas</th>\n    </tr>\n  </thead>\n  <tbody>\n    <tr>\n      <th>0</th>\n      <td>2023</td>\n      <td>9</td>\n      <td>RICAURTE</td>\n      <td>Vivienda alto valor</td>\n      <td>Vivienda alto valor</td>\n      <td>0</td>\n      <td>3.169162e+08</td>\n      <td>0</td>\n      <td>1077790000</td>\n      <td>224.000000</td>\n      <td>64</td>\n      <td>369</td>\n      <td>78.293650</td>\n      <td>0.00</td>\n      <td>206.10</td>\n      <td>57702.42</td>\n      <td>0.0</td>\n    </tr>\n    <tr>\n      <th>1</th>\n      <td>2023</td>\n      <td>9</td>\n      <td>BOGOTÁ D.C.</td>\n      <td>Vivienda</td>\n      <td>Inversión</td>\n      <td>1</td>\n      <td>1.159672e+08</td>\n      <td>87954600</td>\n      <td>117432600</td>\n      <td>111.000000</td>\n      <td>111</td>\n      <td>111</td>\n      <td>38.765833</td>\n      <td>29.93</td>\n      <td>39.15</td>\n      <td>21398.74</td>\n      <td>0.0</td>\n    </tr>\n    <tr>\n      <th>2</th>\n      <td>2023</td>\n      <td>9</td>\n      <td>BOGOTÁ D.C.</td>\n      <td>Vivienda</td>\n      <td>Vivienda</td>\n      <td>0</td>\n      <td>2.788751e+08</td>\n      <td>158660000</td>\n      <td>397890000</td>\n      <td>3.000000</td>\n      <td>3</td>\n      <td>3</td>\n      <td>66.800000</td>\n      <td>35.00</td>\n      <td>79.90</td>\n      <td>22044.00</td>\n      <td>0.0</td>\n    </tr>\n    <tr>\n      <th>3</th>\n      <td>2023</td>\n      <td>9</td>\n      <td>BOGOTÁ D.C.</td>\n      <td>Vivienda</td>\n      <td>Inversión</td>\n      <td>1</td>\n      <td>1.803223e+08</td>\n      <td>124950000</td>\n      <td>200940000</td>\n      <td>409.333333</td>\n      <td>277</td>\n      <td>551</td>\n      <td>45.765908</td>\n      <td>31.20</td>\n      <td>53.00</td>\n      <td>30754.69</td>\n      <td>0.0</td>\n    </tr>\n    <tr>\n      <th>4</th>\n      <td>2023</td>\n      <td>9</td>\n      <td>BOGOTÁ D.C.</td>\n      <td>Vivienda</td>\n      <td>Inversión</td>\n      <td>1</td>\n      <td>1.161496e+08</td>\n      <td>89760000</td>\n      <td>117096000</td>\n      <td>277.333333</td>\n      <td>247</td>\n      <td>308</td>\n      <td>38.765833</td>\n      <td>29.93</td>\n      <td>39.15</td>\n      <td>26050.64</td>\n      <td>0.0</td>\n    </tr>\n  </tbody>\n</table>\n</div>"
     },
     "execution_count": 19,
     "metadata": {},
     "output_type": "execute_result"
    }
   ],
   "source": [
    "# Limpieza de datos\n",
    "macroproyectos = datos.copy()\n",
    "\n",
    "# Remoción de variables\n",
    "columnas_a_remover = [\n",
    "    'MacNombreMacro'\n",
    "]\n",
    "\n",
    "# Si tienen sufijo '_x'\n",
    "macroproyectos = macroproyectos[\n",
    "    [x for x in macroproyectos.columns if (not str(x).endswith('_x')) and (x not in columnas_a_remover)]].copy()\n",
    "\n",
    "# Remoción columnas vacías\n",
    "macroproyectos.dropna(inplace=True, axis=1, how='all')\n",
    "\n",
    "# Rellenado de faltantes en columnas no nulas\n",
    "macroproyectos.fillna(0, inplace=True)\n",
    "\n",
    "macroproyectos.head()"
   ],
   "metadata": {
    "collapsed": false,
    "ExecuteTime": {
     "end_time": "2023-10-27T21:44:11.196000900Z",
     "start_time": "2023-10-27T21:44:11.171650300Z"
    }
   },
   "id": "b2da38df5e009986"
  },
  {
   "cell_type": "code",
   "execution_count": 20,
   "outputs": [
    {
     "data": {
      "text/plain": "    Año  Mes  clase_proyecto  precio_promedio_unidad  precio_min_unidad  \\\n0  2023    9               0            3.169162e+08                  0   \n1  2023    9               1            1.159672e+08           87954600   \n2  2023    9               0            2.788751e+08          158660000   \n3  2023    9               1            1.803223e+08          124950000   \n4  2023    9               1            1.161496e+08           89760000   \n\n   precio_max_unidad  plazo_promedio_unidad  plazo_min_unidad  \\\n0         1077790000             224.000000                64   \n1          117432600             111.000000               111   \n2          397890000               3.000000                 3   \n3          200940000             409.333333               277   \n4          117096000             277.333333               247   \n\n   plazo_max_unidad  area_promedio_unidad  ...  area_max_unidad  \\\n0               369             78.293650  ...           206.10   \n1               111             38.765833  ...            39.15   \n2                 3             66.800000  ...            79.90   \n3               551             45.765908  ...            53.00   \n4               308             38.765833  ...            39.15   \n\n   area_proyecto  cantidad_ventas  geo_ciudad_CALI  geo_ciudad_LA CALERA  \\\n0       57702.42              0.0                0                     0   \n1       21398.74              0.0                0                     0   \n2       22044.00              0.0                0                     0   \n3       30754.69              0.0                0                     0   \n4       26050.64              0.0                0                     0   \n\n   geo_ciudad_RICAURTE  perfil_comprador_Vivienda  \\\n0                    1                          0   \n1                    0                          1   \n2                    0                          1   \n3                    0                          1   \n4                    0                          1   \n\n   perfil_comprador_Vivienda alto valor  \\\n0                                     1   \n1                                     0   \n2                                     0   \n3                                     0   \n4                                     0   \n\n   perfil_comprador_complementario_Vivienda  \\\n0                                         0   \n1                                         0   \n2                                         1   \n3                                         0   \n4                                         0   \n\n   perfil_comprador_complementario_Vivienda alto valor  \n0                                                  1    \n1                                                  0    \n2                                                  0    \n3                                                  0    \n4                                                  0    \n\n[5 rows x 21 columns]",
      "text/html": "<div>\n<style scoped>\n    .dataframe tbody tr th:only-of-type {\n        vertical-align: middle;\n    }\n\n    .dataframe tbody tr th {\n        vertical-align: top;\n    }\n\n    .dataframe thead th {\n        text-align: right;\n    }\n</style>\n<table border=\"1\" class=\"dataframe\">\n  <thead>\n    <tr style=\"text-align: right;\">\n      <th></th>\n      <th>Año</th>\n      <th>Mes</th>\n      <th>clase_proyecto</th>\n      <th>precio_promedio_unidad</th>\n      <th>precio_min_unidad</th>\n      <th>precio_max_unidad</th>\n      <th>plazo_promedio_unidad</th>\n      <th>plazo_min_unidad</th>\n      <th>plazo_max_unidad</th>\n      <th>area_promedio_unidad</th>\n      <th>...</th>\n      <th>area_max_unidad</th>\n      <th>area_proyecto</th>\n      <th>cantidad_ventas</th>\n      <th>geo_ciudad_CALI</th>\n      <th>geo_ciudad_LA CALERA</th>\n      <th>geo_ciudad_RICAURTE</th>\n      <th>perfil_comprador_Vivienda</th>\n      <th>perfil_comprador_Vivienda alto valor</th>\n      <th>perfil_comprador_complementario_Vivienda</th>\n      <th>perfil_comprador_complementario_Vivienda alto valor</th>\n    </tr>\n  </thead>\n  <tbody>\n    <tr>\n      <th>0</th>\n      <td>2023</td>\n      <td>9</td>\n      <td>0</td>\n      <td>3.169162e+08</td>\n      <td>0</td>\n      <td>1077790000</td>\n      <td>224.000000</td>\n      <td>64</td>\n      <td>369</td>\n      <td>78.293650</td>\n      <td>...</td>\n      <td>206.10</td>\n      <td>57702.42</td>\n      <td>0.0</td>\n      <td>0</td>\n      <td>0</td>\n      <td>1</td>\n      <td>0</td>\n      <td>1</td>\n      <td>0</td>\n      <td>1</td>\n    </tr>\n    <tr>\n      <th>1</th>\n      <td>2023</td>\n      <td>9</td>\n      <td>1</td>\n      <td>1.159672e+08</td>\n      <td>87954600</td>\n      <td>117432600</td>\n      <td>111.000000</td>\n      <td>111</td>\n      <td>111</td>\n      <td>38.765833</td>\n      <td>...</td>\n      <td>39.15</td>\n      <td>21398.74</td>\n      <td>0.0</td>\n      <td>0</td>\n      <td>0</td>\n      <td>0</td>\n      <td>1</td>\n      <td>0</td>\n      <td>0</td>\n      <td>0</td>\n    </tr>\n    <tr>\n      <th>2</th>\n      <td>2023</td>\n      <td>9</td>\n      <td>0</td>\n      <td>2.788751e+08</td>\n      <td>158660000</td>\n      <td>397890000</td>\n      <td>3.000000</td>\n      <td>3</td>\n      <td>3</td>\n      <td>66.800000</td>\n      <td>...</td>\n      <td>79.90</td>\n      <td>22044.00</td>\n      <td>0.0</td>\n      <td>0</td>\n      <td>0</td>\n      <td>0</td>\n      <td>1</td>\n      <td>0</td>\n      <td>1</td>\n      <td>0</td>\n    </tr>\n    <tr>\n      <th>3</th>\n      <td>2023</td>\n      <td>9</td>\n      <td>1</td>\n      <td>1.803223e+08</td>\n      <td>124950000</td>\n      <td>200940000</td>\n      <td>409.333333</td>\n      <td>277</td>\n      <td>551</td>\n      <td>45.765908</td>\n      <td>...</td>\n      <td>53.00</td>\n      <td>30754.69</td>\n      <td>0.0</td>\n      <td>0</td>\n      <td>0</td>\n      <td>0</td>\n      <td>1</td>\n      <td>0</td>\n      <td>0</td>\n      <td>0</td>\n    </tr>\n    <tr>\n      <th>4</th>\n      <td>2023</td>\n      <td>9</td>\n      <td>1</td>\n      <td>1.161496e+08</td>\n      <td>89760000</td>\n      <td>117096000</td>\n      <td>277.333333</td>\n      <td>247</td>\n      <td>308</td>\n      <td>38.765833</td>\n      <td>...</td>\n      <td>39.15</td>\n      <td>26050.64</td>\n      <td>0.0</td>\n      <td>0</td>\n      <td>0</td>\n      <td>0</td>\n      <td>1</td>\n      <td>0</td>\n      <td>0</td>\n      <td>0</td>\n    </tr>\n  </tbody>\n</table>\n<p>5 rows × 21 columns</p>\n</div>"
     },
     "execution_count": 20,
     "metadata": {},
     "output_type": "execute_result"
    }
   ],
   "source": [
    "# Categorización\n",
    "variables_categoricas = [\n",
    "    'geo_ciudad',\n",
    "    'perfil_comprador',\n",
    "    'perfil_comprador_complementario'\n",
    "]\n",
    "\n",
    "# Se obtienen variables dummy\n",
    "macroproyectos = pd.get_dummies(macroproyectos, columns=variables_categoricas, drop_first=True)\n",
    "\n",
    "macroproyectos.head()"
   ],
   "metadata": {
    "collapsed": false,
    "ExecuteTime": {
     "end_time": "2023-10-27T21:44:15.315536600Z",
     "start_time": "2023-10-27T21:44:15.297107100Z"
    }
   },
   "id": "b42fb8180dbf0dd4"
  },
  {
   "cell_type": "code",
   "execution_count": 27,
   "outputs": [
    {
     "name": "stdout",
     "output_type": "stream",
     "text": [
      "Los estimadores (β_x) son:  [ 3.29552457e-01  1.06847703e-01 -1.39035460e+01  1.66758057e-08\n",
      "  8.58691666e-08 -1.76652730e-08  4.96594918e-02 -2.22027763e-02\n",
      " -2.89897162e-02 -9.83962457e-01 -4.17842094e-01  3.98842005e-01\n",
      "  9.04356956e-05  1.38025492e+01  6.14152781e+00 -2.87790769e+01\n",
      "  4.22686975e+00 -1.17130493e+00 -4.56146827e+00 -1.17130493e+00]\n",
      "El intercepto (β_0) es:  -630.9966098843523\n",
      "El coeficiente de determinación (R²) es:  0.12063684804772146\n",
      "El error cuadrático medio (RMSE) es:  9.015418546485419\n"
     ]
    }
   ],
   "source": [
    "# Definición del modelo\n",
    "from sklearn.model_selection import train_test_split\n",
    "from sklearn.metrics import mean_squared_error\n",
    "\n",
    "modelo = LinearRegression()\n",
    "\n",
    "data_x = macroproyectos[[x for x in macroproyectos.columns if x != 'cantidad_ventas']]\n",
    "data_y = macroproyectos['cantidad_ventas']\n",
    "\n",
    "X_train, X_test, y_train, y_test = train_test_split(data_x, data_y, test_size=0.33, random_state=42)\n",
    "\n",
    "modelo.fit(X_train, y_train)\n",
    "\n",
    "# Resultados\n",
    "print('Los estimadores (\\u03B2_x) son: ', modelo.coef_)\n",
    "print('El intercepto (\\u03B2_0) es: ', modelo.intercept_)\n",
    "\n",
    "# Métricas\n",
    "print('El coeficiente de determinación (R²) es: ', modelo.score(X_train, y_train))\n",
    "y_predicted = modelo.predict(X_test)\n",
    "print('El error cuadrático medio (RMSE) es: ', mean_squared_error(y_test, y_predicted, squared=False))"
   ],
   "metadata": {
    "collapsed": false,
    "ExecuteTime": {
     "end_time": "2023-10-27T22:01:34.589001400Z",
     "start_time": "2023-10-27T22:01:34.566125100Z"
    }
   },
   "id": "cdece228569a9a24"
  }
 ],
 "metadata": {
  "kernelspec": {
   "display_name": "Python 3",
   "language": "python",
   "name": "python3"
  },
  "language_info": {
   "codemirror_mode": {
    "name": "ipython",
    "version": 2
   },
   "file_extension": ".py",
   "mimetype": "text/x-python",
   "name": "python",
   "nbconvert_exporter": "python",
   "pygments_lexer": "ipython2",
   "version": "2.7.6"
  }
 },
 "nbformat": 4,
 "nbformat_minor": 5
}
